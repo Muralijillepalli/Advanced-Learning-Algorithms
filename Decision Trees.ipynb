{
 "cells": [
  {
   "cell_type": "code",
   "execution_count": 30,
   "id": "8b0208a9",
   "metadata": {},
   "outputs": [],
   "source": [
    "import numpy as np\n",
    "import matplotlib.pyplot as plt\n",
    "%matplotlib inline\n",
    "\n",
    "#Hidden \n",
    "from PIL import Image\n",
    "import networkx as nx\n",
    "import matplotlib.pyplot as plt\n",
    "from networkx.drawing.nx_pydot import graphviz_layout"
   ]
  },
  {
   "cell_type": "code",
   "execution_count": 31,
   "id": "72d9573c",
   "metadata": {},
   "outputs": [],
   "source": [
    "X_train = np.array([[1,1,1],[1,0,1],[1,0,0],[1,0,0],[1,1,1],[0,1,1],[0,0,0],[1,0,1],[0,1,0],[1,0,0]])\n",
    "y_train = np.array([1,1,0,0,1,0,0,1,1,0])"
   ]
  },
  {
   "cell_type": "code",
   "execution_count": 32,
   "id": "38446eb9",
   "metadata": {},
   "outputs": [
    {
     "name": "stdout",
     "output_type": "stream",
     "text": [
      "the shape of X_train is :(10, 3)\n",
      "the shape of y_train is :(10,)\n"
     ]
    }
   ],
   "source": [
    "print(f'the shape of X_train is :{X_train.shape}')\n",
    "print(f'the shape of y_train is :{y_train.shape}')\n"
   ]
  },
  {
   "cell_type": "code",
   "execution_count": 33,
   "id": "22bbfd9a",
   "metadata": {},
   "outputs": [],
   "source": [
    "# compute entropy\n",
    "def compute_entropy(y):\n",
    "    if len(y)==0:\n",
    "        return 0\n",
    "    p_1 =sum(y)/len(y)\n",
    "    if p_1==0 or p_1==1:\n",
    "        return 0\n",
    "    entropy = -p_1*np.log2(p_1)-(1-p_1)*np.log2(1-p_1)\n",
    "    return entropy"
   ]
  },
  {
   "cell_type": "code",
   "execution_count": 34,
   "id": "92606198",
   "metadata": {},
   "outputs": [
    {
     "name": "stdout",
     "output_type": "stream",
     "text": [
      "entropy at the root node:1.0\n"
     ]
    }
   ],
   "source": [
    "# Compute entropy at the root node (i.e with all the examples)\n",
    "\n",
    "print(f'entropy at the root node:{compute_entropy(y_train)}')\n"
   ]
  },
  {
   "cell_type": "code",
   "execution_count": 35,
   "id": "20492c87",
   "metadata": {},
   "outputs": [],
   "source": [
    "# split the data\n",
    "def split_data(X,node_indices,feature):\n",
    "    left_indices = []\n",
    "    right_indices = []\n",
    "    for i in node_indices:\n",
    "        if X[i][feature]== 1:\n",
    "            left_indices.append(i)\n",
    "        else:\n",
    "            right_indices.append(i)\n",
    "    return left_indices,right_indices\n"
   ]
  },
  {
   "cell_type": "code",
   "execution_count": 39,
   "id": "51269852",
   "metadata": {},
   "outputs": [],
   "source": [
    "def generate_node_image(node_indices):\n",
    "    image_paths = [\"%d.png\" % idx for idx in node_indices]\n",
    "    images = [Image.open(x) for x in image_paths]\n",
    "    widths, heights = zip(*(i.size for i in images))\n",
    "\n",
    "    total_width = sum(widths)\n",
    "    max_height = max(heights)\n",
    "\n",
    "    new_im = Image.new('RGB', (total_width, max_height))\n",
    "\n",
    "    x_offset = 0\n",
    "    for im in images:\n",
    "        new_im.paste(im, (x_offset,0))\n",
    "        x_offset += im.size[0]\n",
    "    \n",
    "    new_im = new_im.resize((int(total_width*len(node_indices)/10), int(max_height*len(node_indices)/10)))\n",
    "    \n",
    "    return new_im"
   ]
  },
  {
   "cell_type": "code",
   "execution_count": 42,
   "id": "3443418d",
   "metadata": {},
   "outputs": [],
   "source": [
    "def generate_split_viz(node_indices, left_indices, right_indices, feature):\n",
    "    \n",
    "    G=nx.DiGraph()\n",
    "    \n",
    "    indices_list = [node_indices, left_indices, right_indices]\n",
    "    for idx, indices in enumerate(indices_list):\n",
    "        G.add_node(idx,image= generate_node_image(indices))\n",
    "\n",
    "    G.add_edge(0,1)\n",
    "    G.add_edge(0,2)\n",
    "\n",
    "    pos = graphviz_layout(G, prog=\"dot\")\n",
    "\n",
    "    fig=plt.figure()\n",
    "    ax=plt.subplot(111)\n",
    "    ax.set_aspect('equal')\n",
    "    nx.draw_networkx_edges(G,pos,ax=ax, arrows=True, arrowsize=40)\n",
    "    \n",
    "    trans=ax.transData.transform\n",
    "    trans2=fig.transFigure.inverted().transform\n",
    "\n",
    "    feature_name = [\"Brown Cap\", \"Tapering Stalk Shape\", \"Solitary\"][feature]\n",
    "    ax_name = [\"Splitting on %s\" % feature_name , \"Left: %s = 1\" % feature_name, \"Right: %s = 0\" % feature_name]\n",
    "    for idx, n in enumerate(G):\n",
    "        xx,yy=trans(pos[n]) # figure coordinates\n",
    "        xa,ya=trans2((xx,yy)) # axes coordinates\n",
    "        piesize = len(indices_list[idx])/9\n",
    "        p2=piesize/2.0\n",
    "        a = plt.axes([xa-p2,ya-p2, piesize, piesize])\n",
    "        a.set_aspect('equal')\n",
    "        a.imshow(G.nodes[n]['image'])\n",
    "        a.axis('off')\n",
    "        a.set_title(ax_name[idx])\n",
    "    ax.axis('off')\n",
    "    plt.show()"
   ]
  },
  {
   "cell_type": "code",
   "execution_count": 43,
   "id": "d7c85ffc",
   "metadata": {},
   "outputs": [
    {
     "name": "stdout",
     "output_type": "stream",
     "text": [
      "Case 1:\n",
      "Left indices: [0, 1, 2, 3, 4, 7, 9]\n",
      "Right indices [5, 6, 8]\n",
      "Case2:\n",
      "Left indices: [0, 2, 4]\n",
      "Right indices: [6, 8]\n"
     ]
    }
   ],
   "source": [
    "# Case 1\n",
    "root_indices = [0,1,2,3,4,5,6,7,8,9]\n",
    "feature = 0\n",
    "left_indices,right_indices = split_data(X_train,root_indices,feature)\n",
    "\n",
    "print('Case 1:')\n",
    "print('Left indices:',left_indices)\n",
    "print('Right indices',right_indices)\n",
    "\n",
    "#Case2\n",
    "root_indices_subset = [0,2,4,6,8]\n",
    "left_indices,right_indices = split_data(X_train,root_indices_subset,feature)\n",
    "\n",
    "print('Case2:')\n",
    "print('Left indices:',left_indices)\n",
    "print('Right indices:',right_indices)\n",
    "# Visualize the split\n",
    "\n",
    "#generate_split_viz(root_indices_subset,left_indices,right_indices,feature) giving error\n",
    "\n"
   ]
  },
  {
   "cell_type": "code",
   "execution_count": 46,
   "id": "e3f707f8",
   "metadata": {},
   "outputs": [],
   "source": [
    "# Compute information gain\n",
    "def compute_information_gain(X,y,node_indices,feature):\n",
    "    left_indices,right_indices = split_data(X,node_indices,feature)\n",
    "    \n",
    "    #some useful variables\n",
    "    X_node,y_node = X[node_indices],y[node_indices]\n",
    "    X_left,y_left = X[left_indices],y[left_indices]\n",
    "    X_right,y_right = X[right_indices],y[right_indices]\n",
    "    \n",
    "    information_gain= 0\n",
    "    node_entropy = compute_entropy(y_node)\n",
    "    w_left = len(X_left)/len(y_node)\n",
    "    w_right= len(X_right)/len(y_node)\n",
    "    left_entropy=compute_entropy(y_left)\n",
    "    right_entropy= compute_entropy(y_right)\n",
    "    \n",
    "    gain = w_left*left_entropy + w_right*right_entropy\n",
    "    \n",
    "    information_gain = node_entropy-gain\n",
    "    return information_gain"
   ]
  },
  {
   "cell_type": "code",
   "execution_count": 47,
   "id": "d44febab",
   "metadata": {},
   "outputs": [
    {
     "name": "stdout",
     "output_type": "stream",
     "text": [
      "Information Gain from splitting the root on brown cap:  0.034851554559677034\n",
      "Information Gain from splitting the root on tapering stalk shape:  0.12451124978365313\n",
      "Information Gain from splitting the root on solitary:  0.2780719051126377\n"
     ]
    }
   ],
   "source": [
    "info_gain0 = compute_information_gain(X_train, y_train, root_indices, feature=0)\n",
    "print(\"Information Gain from splitting the root on brown cap: \", info_gain0)\n",
    "\n",
    "info_gain1 = compute_information_gain(X_train, y_train, root_indices, feature=1)\n",
    "print(\"Information Gain from splitting the root on tapering stalk shape: \", info_gain1)\n",
    "\n",
    "info_gain2 = compute_information_gain(X_train, y_train, root_indices, feature=2)\n",
    "print(\"Information Gain from splitting the root on solitary: \", info_gain2)\n",
    "\n"
   ]
  },
  {
   "cell_type": "code",
   "execution_count": 50,
   "id": "9844d624",
   "metadata": {},
   "outputs": [],
   "source": [
    "# get best split\n",
    "\n",
    "def get_best_split(X,y,node_indices):\n",
    "    num_features=X.shape[1]\n",
    "    best_feature = -1\n",
    "    \n",
    "    m=0\n",
    "    for i in range(num_features):\n",
    "        info_gain = compute_information_gain(X,y,node_indices,i)\n",
    "        if m<info_gain:\n",
    "            m = info_gain\n",
    "            best_feature =i\n",
    "    return best_feature"
   ]
  },
  {
   "cell_type": "code",
   "execution_count": 51,
   "id": "762b5507",
   "metadata": {},
   "outputs": [
    {
     "name": "stdout",
     "output_type": "stream",
     "text": [
      "Best feature to split on: 2\n"
     ]
    }
   ],
   "source": [
    "best_feature = get_best_split(X_train, y_train, root_indices)\n",
    "print(\"Best feature to split on: %d\" % best_feature)\n",
    "\n"
   ]
  },
  {
   "cell_type": "code",
   "execution_count": 53,
   "id": "df43cb66",
   "metadata": {},
   "outputs": [],
   "source": [
    "tree = []\n",
    "\n",
    "def build_tree_recuresive(X,y,node_indices,branch_name,max_depth,current_depth):\n",
    "     # Maximum depth reached - stop splitting\n",
    "    if current_depth == max_depth:\n",
    "        formatting = \" \"*current_depth + \"-\"*current_depth\n",
    "        print(formatting, \"%s leaf node with indices\" % branch_name, node_indices)\n",
    "        return\n",
    "   \n",
    "    # Otherwise, get best split and split the data\n",
    "    # Get the best feature and threshold at this node\n",
    "    best_feature = get_best_split(X, y, node_indices) \n",
    "    \n",
    "    formatting = \"-\"*current_depth\n",
    "    print(\"%s Depth %d, %s: Split on feature: %d\" % (formatting, current_depth, branch_name, best_feature))\n",
    "    \n",
    "    # Split the dataset at the best feature\n",
    "    left_indices, right_indices = split_dataset(X, node_indices, best_feature)\n",
    "    tree.append((left_indices, right_indices, best_feature))\n",
    "    \n",
    "    # continue splitting the left and the right child. Increment current depth\n",
    "    build_tree_recursive(X, y, left_indices, \"Left\", max_depth, current_depth+1)\n",
    "    build_tree_recursive(X, y, right_indices, \"Right\", max_depth, current_depth+1)"
   ]
  },
  {
   "cell_type": "code",
   "execution_count": null,
   "id": "6c841565",
   "metadata": {},
   "outputs": [],
   "source": []
  }
 ],
 "metadata": {
  "kernelspec": {
   "display_name": "Python 3 (ipykernel)",
   "language": "python",
   "name": "python3"
  },
  "language_info": {
   "codemirror_mode": {
    "name": "ipython",
    "version": 3
   },
   "file_extension": ".py",
   "mimetype": "text/x-python",
   "name": "python",
   "nbconvert_exporter": "python",
   "pygments_lexer": "ipython3",
   "version": "3.11.3"
  }
 },
 "nbformat": 4,
 "nbformat_minor": 5
}
